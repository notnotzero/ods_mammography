{
 "cells": [
  {
   "cell_type": "code",
   "execution_count": 1,
   "metadata": {},
   "outputs": [],
   "source": [
    "import pandas as pd\n",
    "import numpy as np\n",
    "import seaborn as sns\n",
    "import matplotlib.pyplot as plt\n",
    "import cv2 as cv\n",
    "from sklearn.linear_model import LogisticRegression\n",
    "from sklearn.model_selection import train_test_split\n",
    "from sklearn.model_selection import GridSearchCV\n",
    "\n",
    "import sys\n",
    "sys.path.append('..')\n",
    "sys.path.append('../..')\n",
    "from soreva_metrics import calculate_metrics\n",
    "from sklearn.metrics import  make_scorer\n",
    "\n"
   ]
  },
  {
   "cell_type": "code",
   "execution_count": 2,
   "metadata": {},
   "outputs": [],
   "source": [
    "train_df = pd.read_csv('./data_clear_not_hot.csv').drop(['laterality'],axis=1)"
   ]
  },
  {
   "cell_type": "code",
   "execution_count": 3,
   "metadata": {},
   "outputs": [
    {
     "data": {
      "text/html": [
       "<div>\n",
       "<style scoped>\n",
       "    .dataframe tbody tr th:only-of-type {\n",
       "        vertical-align: middle;\n",
       "    }\n",
       "\n",
       "    .dataframe tbody tr th {\n",
       "        vertical-align: top;\n",
       "    }\n",
       "\n",
       "    .dataframe thead th {\n",
       "        text-align: right;\n",
       "    }\n",
       "</style>\n",
       "<table border=\"1\" class=\"dataframe\">\n",
       "  <thead>\n",
       "    <tr style=\"text-align: right;\">\n",
       "      <th></th>\n",
       "      <th>tissue_density_predicted</th>\n",
       "      <th>cancer_probability_predicted</th>\n",
       "      <th>BiRads</th>\n",
       "    </tr>\n",
       "  </thead>\n",
       "  <tbody>\n",
       "    <tr>\n",
       "      <th>0</th>\n",
       "      <td>1</td>\n",
       "      <td>0.045</td>\n",
       "      <td>1</td>\n",
       "    </tr>\n",
       "    <tr>\n",
       "      <th>1</th>\n",
       "      <td>2</td>\n",
       "      <td>0.350</td>\n",
       "      <td>1</td>\n",
       "    </tr>\n",
       "    <tr>\n",
       "      <th>2</th>\n",
       "      <td>2</td>\n",
       "      <td>0.993</td>\n",
       "      <td>1</td>\n",
       "    </tr>\n",
       "    <tr>\n",
       "      <th>3</th>\n",
       "      <td>2</td>\n",
       "      <td>0.963</td>\n",
       "      <td>1</td>\n",
       "    </tr>\n",
       "    <tr>\n",
       "      <th>4</th>\n",
       "      <td>2</td>\n",
       "      <td>0.974</td>\n",
       "      <td>2</td>\n",
       "    </tr>\n",
       "  </tbody>\n",
       "</table>\n",
       "</div>"
      ],
      "text/plain": [
       "   tissue_density_predicted  cancer_probability_predicted  BiRads\n",
       "0                         1                         0.045       1\n",
       "1                         2                         0.350       1\n",
       "2                         2                         0.993       1\n",
       "3                         2                         0.963       1\n",
       "4                         2                         0.974       2"
      ]
     },
     "execution_count": 3,
     "metadata": {},
     "output_type": "execute_result"
    }
   ],
   "source": [
    "train_df.head()"
   ]
  },
  {
   "cell_type": "code",
   "execution_count": 5,
   "metadata": {},
   "outputs": [],
   "source": [
    "test = pd.DataFrame({'tissue_density_predicted' : [1,1,1,1,2,2,2,2,3,3,3,3,4,4,4,4]})\n",
    "\n",
    "\n",
    "\n",
    "def additon_function(x,first,second,third,fourth):\n",
    "    if x == 1:\n",
    "        return  x + first\n",
    "    if x == 2 :\n",
    "        return x + first + second\n",
    "    if x == 3:\n",
    "        return x + first + second + third\n",
    "    if x == 4 :\n",
    "        return x + first + second + third + fourth\n",
    "    \n",
    "def addition_column_function(df,first,second,third,fourth):\n",
    "    return df['tissue_density_predicted'].apply(lambda x: additon_function(x,first,second,third,fourth) )\n",
    "    \n",
    "    \n",
    "    "
   ]
  },
  {
   "cell_type": "code",
   "execution_count": 6,
   "metadata": {},
   "outputs": [],
   "source": [
    "new_rows = pd.DataFrame({'tissue_density_predicted' : [1,1,1,1,2,2,2,2,3,3,3,3,4,4,4,4],'cancer_probability_predicted':[1.0,0.99,0.954,0.934,\n",
    "                                                                                                                        1.0,0.97,0.924,0.88,\n",
    "                                                                                                                        1.0,0.9,0.913,0.849,\n",
    "                                                                                                                        1.0,0.88,0.81,0.796,], 'BiRads': [5] * 16})\n",
    "train_df = train_df.append(new_rows,ignore_index=True)\n",
    "\n",
    "\n"
   ]
  },
  {
   "cell_type": "code",
   "execution_count": null,
   "metadata": {},
   "outputs": [],
   "source": [
    "LR = LogisticRegression(class_weight=\"balanced\",max_iter=10000,penalty='l2')\n",
    "params = {\"C\":np.linspace(0.01,0.03,50)}\n",
    "\n",
    "work_df = train_df.copy()\n",
    "\n",
    "\n",
    "\n",
    "work_df['tissue_density_predicted'] = addition_column_function(work_df,0,0,10,1)\n",
    "work_df['tc_prediction_mult'] = work_df['tissue_density_predicted'] * work_df['cancer_probability_predicted']\n",
    "\n",
    "work_df['cancer_probability_predicted'] = work_df['cancer_probability_predicted'].apply(lambda x : 1 - x)\n",
    "\n",
    "\n",
    "X = work_df.drop(['BiRads'],axis=1)\n",
    "y = work_df['BiRads']\n",
    "\n",
    "x_train, x_test, y_train, y_test = train_test_split(X, y, test_size=0.2,stratify=y,random_state=47)\n",
    "\n",
    "LR_search_grid = GridSearchCV(LR,\n",
    "                               params,\n",
    "                                   n_jobs=-1,\n",
    "                                   scoring={'score' : make_scorer(calculate_metrics)},\n",
    "                                   refit=\"score\",\n",
    "                                   cv=5)\n",
    "\n",
    "\n",
    "LR_search_grid.fit(x_train, np.array(y_train))\n",
    "\n",
    "print(calculate_metrics(y_test, LR_search_grid.best_estimator_.predict(x_test)))\n"
   ]
  },
  {
   "cell_type": "code",
   "execution_count": null,
   "metadata": {},
   "outputs": [],
   "source": [
    "LR_search_grid.best_params_, LR_search_grid.best_score_"
   ]
  },
  {
   "cell_type": "code",
   "execution_count": 28,
   "metadata": {},
   "outputs": [],
   "source": [
    "test_df = pd.read_json('../orig_data/data_test/data_test.json').T\n",
    "\n",
    "prediction_df = test_df.drop(['laterality','patient_id','CC','MLO'],axis=1)\n",
    "\n",
    "prediction_df['tc_prediction_mult'] = prediction_df['tissue_density_predicted'] * prediction_df['cancer_probability_predicted']\n",
    "prediction_df['tissue_density_predicted'] = addition_column_function(prediction_df,0.0,0.0,10.0,5.0)\n",
    "prediction_df['cancer_probability_predicted'] = prediction_df['cancer_probability_predicted'].apply(lambda x : 1 - x)\n",
    "\n",
    "\n",
    "prediction =  LR_search_grid.best_estimator_.predict(prediction_df)\n",
    "submission = pd.DataFrame({'id' : prediction_df.index ,'BiRads':prediction})\n",
    "\n",
    "submission.to_csv('../submissions/LR_C=0.01354515050167224_0_0_10_5_multiply_after.csv', index=False)"
   ]
  },
  {
   "cell_type": "code",
   "execution_count": null,
   "metadata": {},
   "outputs": [],
   "source": []
  }
 ],
 "metadata": {
  "kernelspec": {
   "display_name": "Python 3",
   "language": "python",
   "name": "python3"
  },
  "language_info": {
   "codemirror_mode": {
    "name": "ipython",
    "version": 3
   },
   "file_extension": ".py",
   "mimetype": "text/x-python",
   "name": "python",
   "nbconvert_exporter": "python",
   "pygments_lexer": "ipython3",
   "version": "3.8.5"
  }
 },
 "nbformat": 4,
 "nbformat_minor": 4
}
