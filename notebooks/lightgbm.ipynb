{
 "cells": [
  {
   "cell_type": "code",
   "execution_count": 3,
   "metadata": {},
   "outputs": [],
   "source": [
    "from lightgbm import LGBMClassifier\n",
    "import pandas as pd\n",
    "import numpy as np\n",
    "import seaborn as sns\n",
    "import matplotlib.pyplot as plt\n",
    "import cv2 as cv\n",
    "import matplotlib.patches as patches\n",
    "from PIL import Image\n",
    "from ast import literal_eval\n",
    "from sklearn.linear_model import LinearRegression , LogisticRegression\n",
    "from sklearn.model_selection import train_test_split, cross_val_score\n",
    "from sklearn.tree import DecisionTreeClassifier\n",
    "from sklearn.neighbors import KNeighborsClassifier\n",
    "from sklearn.metrics import mean_squared_error\n",
    "from sklearn.model_selection import GridSearchCV,StratifiedShuffleSplit\n",
    "from sklearn.preprocessing import StandardScaler\n",
    "from imblearn.combine import SMOTETomek \n",
    "from sklearn.ensemble import RandomForestClassifier\n",
    "import sys\n",
    "sys.path.append('..')\n",
    "sys.path.append('../..')\n",
    "sys.path.append('../../..')\n",
    "from soreva_metrics import calculate_metrics\n",
    "from sklearn.metrics import fbeta_score, make_scorer\n",
    "from sklearn.model_selection import StratifiedKFold\n",
    "from imblearn.over_sampling import RandomOverSampler \n",
    "from sklearn.model_selection import RandomizedSearchCV\n",
    "from sklearn.model_selection import RepeatedStratifiedKFold\n",
    "def mean(lst):\n",
    "    return sum(lst) / len(lst)\n",
    "\n",
    "\n",
    "\n",
    "train_df = pd.read_csv('./full_train_df.csv').drop(['Unnamed: 0','index','id'],axis=1)\n",
    "\n",
    "\n",
    "\n",
    "train_df['tc_prediction_mult'] = train_df['tissue_density_predicted'] * train_df['cancer_probability_predicted']\n",
    "\n",
    "\n"
   ]
  },
  {
   "cell_type": "code",
   "execution_count": 4,
   "metadata": {},
   "outputs": [],
   "source": [
    "train_df = train_df.drop(['laterality','patient_id'],axis=1)"
   ]
  },
  {
   "cell_type": "code",
   "execution_count": 13,
   "metadata": {},
   "outputs": [
    {
     "data": {
      "text/plain": [
       "LGBMClassifier(boosting_type='dart', class_weight='balanced')"
      ]
     },
     "execution_count": 13,
     "metadata": {},
     "output_type": "execute_result"
    }
   ],
   "source": [
    "model = LGBMClassifier(boosting_type='dart', class_weight='balanced')\n",
    "\n",
    "X = train_df.drop(['BiRads','CC','MLO'],axis=1)\n",
    "y = train_df['BiRads']\n",
    "\n",
    "# param_grid = {\n",
    "#     'boosting_type': ['dart','gbdt','goss'], #,\n",
    "#     'n_estimators': [100, 200,300],\n",
    "#     'colsample_bytree': [0.7, 0.8],\n",
    "#     'max_depth': [15,20,25],\n",
    "#     'num_leaves': [50, 100, 200],\n",
    "#     'reg_alpha': [1.1,1.2,1.3],\n",
    "#     'reg_lambda': [1.1, 1.2, 1.3],\n",
    "#     'min_split_gain': [0.3, 0.4],\n",
    "#     'subsample': [0.7, 0.8, 0.9],\n",
    "#     'subsample_freq': [20],\n",
    "#     'class_weight' : ['balanced'] }\n",
    "# gs = GridSearchCV(\n",
    "#         model,\n",
    "#         param_grid, \n",
    "#         cv=5, \n",
    "#         n_jobs=-1, \n",
    "#         scoring={'score' : make_scorer(calculate_metrics)},\n",
    "#                                        refit=\"score\",\n",
    "#         verbose=5\n",
    "#     )\n",
    "\n",
    "model.fit(X,y)\n"
   ]
  },
  {
   "cell_type": "code",
   "execution_count": 221,
   "metadata": {},
   "outputs": [
    {
     "data": {
      "text/plain": [
       "-0.09222955686218677"
      ]
     },
     "execution_count": 221,
     "metadata": {},
     "output_type": "execute_result"
    }
   ],
   "source": [
    "# 0.084\n",
    "\n",
    "# gs.best_score_"
   ]
  },
  {
   "cell_type": "code",
   "execution_count": 222,
   "metadata": {},
   "outputs": [
    {
     "data": {
      "text/plain": [
       "{'boosting_type': 'dart',\n",
       " 'class_weight': 'balanced',\n",
       " 'n_estimators': 100,\n",
       " 'reg_alpha': 1.3}"
      ]
     },
     "execution_count": 222,
     "metadata": {},
     "output_type": "execute_result"
    }
   ],
   "source": [
    "# gs.best_params_"
   ]
  },
  {
   "cell_type": "code",
   "execution_count": 8,
   "metadata": {},
   "outputs": [],
   "source": [
    "test_df = pd.read_json('./data_test.json').T\n",
    "test_df['tc_prediction_mult'] = test_df['tissue_density_predicted'] * test_df['cancer_probability_predicted']\n"
   ]
  },
  {
   "cell_type": "code",
   "execution_count": 9,
   "metadata": {},
   "outputs": [],
   "source": [
    "test_df = test_df.drop(['laterality','patient_id','CC','MLO'],axis=1)\n",
    "\n",
    "\n"
   ]
  },
  {
   "cell_type": "code",
   "execution_count": 15,
   "metadata": {},
   "outputs": [],
   "source": [
    "test_df['tissue_density_predicted'] = pd.to_numeric(test_df['tissue_density_predicted'])\n",
    "test_df['cancer_probability_predicted'] = pd.to_numeric(test_df['cancer_probability_predicted'])\n",
    "test_df['tc_prediction_mult'] = pd.to_numeric(test_df['tc_prediction_mult'])\n"
   ]
  },
  {
   "cell_type": "code",
   "execution_count": 16,
   "metadata": {},
   "outputs": [],
   "source": [
    "prediction =  model.predict(test_df)\n",
    "submission = pd.DataFrame({'id' : test_df.index ,'BiRads':prediction})\n",
    "\n",
    "submission.to_csv('../../submissions/lightgbm_with_second_breast.csv', index=False)"
   ]
  },
  {
   "cell_type": "code",
   "execution_count": 17,
   "metadata": {},
   "outputs": [
    {
     "data": {
      "text/plain": [
       "array([[<AxesSubplot:title={'center':'BiRads'}>]], dtype=object)"
      ]
     },
     "execution_count": 17,
     "metadata": {},
     "output_type": "execute_result"
    },
    {
     "data": {
      "image/png": "[encoded data removed]",
      "text/plain": [
       "<Figure size 432x288 with 1 Axes>"
      ]
     },
     "metadata": {
      "needs_background": "light"
     },
     "output_type": "display_data"
    }
   ],
   "source": [
    "submission.hist()"
   ]
  },
  {
   "cell_type": "code",
   "execution_count": null,
   "metadata": {},
   "outputs": [],
   "source": []
  }
 ],
 "metadata": {
  "kernelspec": {
   "display_name": "Python 3",
   "language": "python",
   "name": "python3"
  },
  "language_info": {
   "codemirror_mode": {
    "name": "ipython",
    "version": 3
   },
   "file_extension": ".py",
   "mimetype": "text/x-python",
   "name": "python",
   "nbconvert_exporter": "python",
   "pygments_lexer": "ipython3",
   "version": "3.8.5"
  }
 },
 "nbformat": 4,
 "nbformat_minor": 4
}
