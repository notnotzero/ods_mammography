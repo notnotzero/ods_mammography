{
 "cells": [
  {
   "cell_type": "code",
   "execution_count": 1,
   "metadata": {},
   "outputs": [],
   "source": [
    "import pandas as pd\n",
    "import numpy as np\n",
    "import seaborn as sns\n",
    "import matplotlib.pyplot as plt\n",
    "import cv2 as cv\n",
    "import matplotlib.patches as patches\n",
    "from PIL import Image\n",
    "from ast import literal_eval\n",
    "from sklearn.linear_model import LinearRegression , LogisticRegression\n",
    "from sklearn.model_selection import train_test_split, cross_val_score\n",
    "from sklearn.tree import DecisionTreeClassifier\n",
    "from sklearn.neighbors import KNeighborsClassifier\n",
    "from sklearn.metrics import mean_squared_error\n",
    "from sklearn.model_selection import GridSearchCV\n",
    "\n",
    "import sys\n",
    "sys.path.append('..')\n",
    "from soreva_metrics import calculate_metrics\n",
    "from sklearn.metrics import fbeta_score, make_scorer\n"
   ]
  },
  {
   "cell_type": "code",
   "execution_count": 2,
   "metadata": {},
   "outputs": [
    {
     "data": {
      "text/html": [
       "<div>\n",
       "<style scoped>\n",
       "    .dataframe tbody tr th:only-of-type {\n",
       "        vertical-align: middle;\n",
       "    }\n",
       "\n",
       "    .dataframe tbody tr th {\n",
       "        vertical-align: top;\n",
       "    }\n",
       "\n",
       "    .dataframe thead th {\n",
       "        text-align: right;\n",
       "    }\n",
       "</style>\n",
       "<table border=\"1\" class=\"dataframe\">\n",
       "  <thead>\n",
       "    <tr style=\"text-align: right;\">\n",
       "      <th></th>\n",
       "      <th>index</th>\n",
       "      <th>laterality</th>\n",
       "      <th>patient_id</th>\n",
       "      <th>tissue_density_predicted</th>\n",
       "      <th>cancer_probability_predicted</th>\n",
       "      <th>CC</th>\n",
       "      <th>MLO</th>\n",
       "      <th>BiRads</th>\n",
       "    </tr>\n",
       "  </thead>\n",
       "  <tbody>\n",
       "    <tr>\n",
       "      <th>0</th>\n",
       "      <td>f55c7e1c-9c91-4509-8724-4309341db0a5</td>\n",
       "      <td>L</td>\n",
       "      <td>2784</td>\n",
       "      <td>1</td>\n",
       "      <td>0.045</td>\n",
       "      <td>[{'coordinates': [484, 600, 518, 628], 'object...</td>\n",
       "      <td>[{'coordinates': [263, 2130, 285, 2151], 'obje...</td>\n",
       "      <td>1</td>\n",
       "    </tr>\n",
       "    <tr>\n",
       "      <th>1</th>\n",
       "      <td>7ce278f3-df17-4b91-b17a-d038005a044f</td>\n",
       "      <td>R</td>\n",
       "      <td>2784</td>\n",
       "      <td>2</td>\n",
       "      <td>0.350</td>\n",
       "      <td>[{'coordinates': [793, 877, 815, 901], 'object...</td>\n",
       "      <td>[{'coordinates': [1, 260, 49, 331], 'object_ty...</td>\n",
       "      <td>1</td>\n",
       "    </tr>\n",
       "    <tr>\n",
       "      <th>2</th>\n",
       "      <td>8e462f38-8063-46c0-bdf5-15be8c3bebbb</td>\n",
       "      <td>L</td>\n",
       "      <td>1079</td>\n",
       "      <td>2</td>\n",
       "      <td>0.993</td>\n",
       "      <td>[{'coordinates': [837, 1026, 877, 1077], 'obje...</td>\n",
       "      <td>[{'coordinates': [318, 1006, 468, 1139], 'obje...</td>\n",
       "      <td>1</td>\n",
       "    </tr>\n",
       "    <tr>\n",
       "      <th>3</th>\n",
       "      <td>3dbd7019-8e7b-4e2d-8343-e976b0f9d581</td>\n",
       "      <td>R</td>\n",
       "      <td>1079</td>\n",
       "      <td>2</td>\n",
       "      <td>0.963</td>\n",
       "      <td>[{'coordinates': [163, 749, 182, 768], 'object...</td>\n",
       "      <td>[{'coordinates': [444, 1397, 521, 1520], 'obje...</td>\n",
       "      <td>1</td>\n",
       "    </tr>\n",
       "    <tr>\n",
       "      <th>4</th>\n",
       "      <td>71981fe9-8f8e-4ee1-834e-832ae0f9ab39</td>\n",
       "      <td>L</td>\n",
       "      <td>952</td>\n",
       "      <td>2</td>\n",
       "      <td>0.974</td>\n",
       "      <td>[{'coordinates': [376, 426, 466, 482], 'object...</td>\n",
       "      <td>[{'coordinates': [458, 1413, 510, 1472], 'obje...</td>\n",
       "      <td>2</td>\n",
       "    </tr>\n",
       "  </tbody>\n",
       "</table>\n",
       "</div>"
      ],
      "text/plain": [
       "                                  index laterality  patient_id  \\\n",
       "0  f55c7e1c-9c91-4509-8724-4309341db0a5          L        2784   \n",
       "1  7ce278f3-df17-4b91-b17a-d038005a044f          R        2784   \n",
       "2  8e462f38-8063-46c0-bdf5-15be8c3bebbb          L        1079   \n",
       "3  3dbd7019-8e7b-4e2d-8343-e976b0f9d581          R        1079   \n",
       "4  71981fe9-8f8e-4ee1-834e-832ae0f9ab39          L         952   \n",
       "\n",
       "   tissue_density_predicted  cancer_probability_predicted  \\\n",
       "0                         1                         0.045   \n",
       "1                         2                         0.350   \n",
       "2                         2                         0.993   \n",
       "3                         2                         0.963   \n",
       "4                         2                         0.974   \n",
       "\n",
       "                                                  CC  \\\n",
       "0  [{'coordinates': [484, 600, 518, 628], 'object...   \n",
       "1  [{'coordinates': [793, 877, 815, 901], 'object...   \n",
       "2  [{'coordinates': [837, 1026, 877, 1077], 'obje...   \n",
       "3  [{'coordinates': [163, 749, 182, 768], 'object...   \n",
       "4  [{'coordinates': [376, 426, 466, 482], 'object...   \n",
       "\n",
       "                                                 MLO  BiRads  \n",
       "0  [{'coordinates': [263, 2130, 285, 2151], 'obje...       1  \n",
       "1  [{'coordinates': [1, 260, 49, 331], 'object_ty...       1  \n",
       "2  [{'coordinates': [318, 1006, 468, 1139], 'obje...       1  \n",
       "3  [{'coordinates': [444, 1397, 521, 1520], 'obje...       1  \n",
       "4  [{'coordinates': [458, 1413, 510, 1472], 'obje...       2  "
      ]
     },
     "execution_count": 2,
     "metadata": {},
     "output_type": "execute_result"
    }
   ],
   "source": [
    "full_train_df = pd.read_csv('../new_data/full_train_df.csv')\n",
    "full_train_df.drop(['Unnamed: 0','id'],axis=1,inplace=True)\n",
    "full_train_df['CC'] = full_train_df['CC'].apply(literal_eval)\n",
    "full_train_df.head()\n",
    "\n"
   ]
  },
  {
   "cell_type": "code",
   "execution_count": 3,
   "metadata": {},
   "outputs": [],
   "source": [
    "test_df = pd.read_json('../orig_data/data_test/data_test.json').T\n"
   ]
  },
  {
   "cell_type": "code",
   "execution_count": 4,
   "metadata": {},
   "outputs": [],
   "source": [
    "LR = LogisticRegression()"
   ]
  },
  {
   "cell_type": "code",
   "execution_count": 5,
   "metadata": {},
   "outputs": [
    {
     "data": {
      "text/plain": [
       "(-0.04910571120737027,\n",
       " {'C': 0.00808080808080808, 'class_weight': 'balanced', 'random_state': 17})"
      ]
     },
     "execution_count": 5,
     "metadata": {},
     "output_type": "execute_result"
    }
   ],
   "source": [
    "X = pd.DataFrame({'tissue_density_predicted': full_train_df['tissue_density_predicted'], 'cancer_probability_predicted' : full_train_df['cancer_probability_predicted']})\n",
    "y = full_train_df['BiRads']\n",
    "\n",
    "params = {'class_weight': ['balanced'], 'random_state' : [17], 'C': np.linspace(0,0.1,100)}\n",
    "x_train, x_test, y_train, y_test = train_test_split(X, y, test_size=0.2,stratify=y)\n",
    "\n",
    "LR_search_grid = GridSearchCV(LR, params, n_jobs=-1,scoring={'score':make_scorer(calculate_metrics)),refit='score',cv=5)\n",
    "\n",
    "LR_search_grid.fit(x_train, np.array(y_train))\n",
    "LR_search_grid.best_score_, LR_search_grid.best_params_\n"
   ]
  },
  {
   "cell_type": "code",
   "execution_count": 6,
   "metadata": {},
   "outputs": [
    {
     "data": {
      "text/plain": [
       "-0.24856855740016207"
      ]
     },
     "execution_count": 6,
     "metadata": {},
     "output_type": "execute_result"
    }
   ],
   "source": [
    "prediction = LR_search_grid.best_estimator_.predict(x_test)\n",
    "calculate_metrics(y_test.values, prediction)"
   ]
  },
  {
   "cell_type": "code",
   "execution_count": 7,
   "metadata": {},
   "outputs": [
    {
     "data": {
      "text/html": [
       "<div>\n",
       "<style scoped>\n",
       "    .dataframe tbody tr th:only-of-type {\n",
       "        vertical-align: middle;\n",
       "    }\n",
       "\n",
       "    .dataframe tbody tr th {\n",
       "        vertical-align: top;\n",
       "    }\n",
       "\n",
       "    .dataframe thead th {\n",
       "        text-align: right;\n",
       "    }\n",
       "</style>\n",
       "<table border=\"1\" class=\"dataframe\">\n",
       "  <thead>\n",
       "    <tr style=\"text-align: right;\">\n",
       "      <th></th>\n",
       "      <th>tissue_density_predicted</th>\n",
       "      <th>cancer_probability_predicted</th>\n",
       "    </tr>\n",
       "  </thead>\n",
       "  <tbody>\n",
       "    <tr>\n",
       "      <th>0</th>\n",
       "      <td>1</td>\n",
       "      <td>0.045</td>\n",
       "    </tr>\n",
       "    <tr>\n",
       "      <th>1</th>\n",
       "      <td>2</td>\n",
       "      <td>0.350</td>\n",
       "    </tr>\n",
       "    <tr>\n",
       "      <th>2</th>\n",
       "      <td>2</td>\n",
       "      <td>0.993</td>\n",
       "    </tr>\n",
       "    <tr>\n",
       "      <th>3</th>\n",
       "      <td>2</td>\n",
       "      <td>0.963</td>\n",
       "    </tr>\n",
       "    <tr>\n",
       "      <th>4</th>\n",
       "      <td>2</td>\n",
       "      <td>0.974</td>\n",
       "    </tr>\n",
       "  </tbody>\n",
       "</table>\n",
       "</div>"
      ],
      "text/plain": [
       "   tissue_density_predicted  cancer_probability_predicted\n",
       "0                         1                         0.045\n",
       "1                         2                         0.350\n",
       "2                         2                         0.993\n",
       "3                         2                         0.963\n",
       "4                         2                         0.974"
      ]
     },
     "execution_count": 7,
     "metadata": {},
     "output_type": "execute_result"
    }
   ],
   "source": [
    "X.head()"
   ]
  },
  {
   "cell_type": "code",
   "execution_count": 7,
   "metadata": {},
   "outputs": [],
   "source": [
    "prediction_df = test_df.drop(['laterality','patient_id','CC','MLO'],axis=1)"
   ]
  },
  {
   "cell_type": "code",
   "execution_count": 8,
   "metadata": {},
   "outputs": [
    {
     "data": {
      "text/html": [
       "<div>\n",
       "<style scoped>\n",
       "    .dataframe tbody tr th:only-of-type {\n",
       "        vertical-align: middle;\n",
       "    }\n",
       "\n",
       "    .dataframe tbody tr th {\n",
       "        vertical-align: top;\n",
       "    }\n",
       "\n",
       "    .dataframe thead th {\n",
       "        text-align: right;\n",
       "    }\n",
       "</style>\n",
       "<table border=\"1\" class=\"dataframe\">\n",
       "  <thead>\n",
       "    <tr style=\"text-align: right;\">\n",
       "      <th></th>\n",
       "      <th>tissue_density_predicted</th>\n",
       "      <th>cancer_probability_predicted</th>\n",
       "    </tr>\n",
       "  </thead>\n",
       "  <tbody>\n",
       "    <tr>\n",
       "      <th>8097d218-2c51-4ec8-9ee8-ea6b7701ef3c</th>\n",
       "      <td>3</td>\n",
       "      <td>0.074</td>\n",
       "    </tr>\n",
       "    <tr>\n",
       "      <th>4c9a6bed-a454-467c-b51e-451f5ee2db35</th>\n",
       "      <td>2</td>\n",
       "      <td>0.81</td>\n",
       "    </tr>\n",
       "    <tr>\n",
       "      <th>2737373f-e0ce-4d58-8d0a-0b85925d1783</th>\n",
       "      <td>4</td>\n",
       "      <td>0.951</td>\n",
       "    </tr>\n",
       "    <tr>\n",
       "      <th>a1298d90-1d62-4a07-a6b4-84999ba8b2c8</th>\n",
       "      <td>3</td>\n",
       "      <td>0.391</td>\n",
       "    </tr>\n",
       "    <tr>\n",
       "      <th>fdcbc6af-8d74-4537-b965-57e91ed77955</th>\n",
       "      <td>2</td>\n",
       "      <td>0.223</td>\n",
       "    </tr>\n",
       "  </tbody>\n",
       "</table>\n",
       "</div>"
      ],
      "text/plain": [
       "                                     tissue_density_predicted  \\\n",
       "8097d218-2c51-4ec8-9ee8-ea6b7701ef3c                        3   \n",
       "4c9a6bed-a454-467c-b51e-451f5ee2db35                        2   \n",
       "2737373f-e0ce-4d58-8d0a-0b85925d1783                        4   \n",
       "a1298d90-1d62-4a07-a6b4-84999ba8b2c8                        3   \n",
       "fdcbc6af-8d74-4537-b965-57e91ed77955                        2   \n",
       "\n",
       "                                     cancer_probability_predicted  \n",
       "8097d218-2c51-4ec8-9ee8-ea6b7701ef3c                        0.074  \n",
       "4c9a6bed-a454-467c-b51e-451f5ee2db35                         0.81  \n",
       "2737373f-e0ce-4d58-8d0a-0b85925d1783                        0.951  \n",
       "a1298d90-1d62-4a07-a6b4-84999ba8b2c8                        0.391  \n",
       "fdcbc6af-8d74-4537-b965-57e91ed77955                        0.223  "
      ]
     },
     "execution_count": 8,
     "metadata": {},
     "output_type": "execute_result"
    }
   ],
   "source": [
    "prediction_df.head()"
   ]
  },
  {
   "cell_type": "code",
   "execution_count": 9,
   "metadata": {},
   "outputs": [],
   "source": [
    "result = LR_search_grid.best_estimator_.predict(prediction_df)"
   ]
  },
  {
   "cell_type": "code",
   "execution_count": 10,
   "metadata": {},
   "outputs": [],
   "source": [
    "submission = pd.DataFrame({'id' : prediction_df.index ,'BiRads':result})"
   ]
  },
  {
   "cell_type": "code",
   "execution_count": 11,
   "metadata": {},
   "outputs": [
    {
     "data": {
      "text/plain": [
       "array([[<AxesSubplot:title={'center':'BiRads'}>]], dtype=object)"
      ]
     },
     "execution_count": 11,
     "metadata": {},
     "output_type": "execute_result"
    },
    {
     "data": {
      "image/png": "[encoded data removed]",
      "text/plain": [
       "<Figure size 432x288 with 1 Axes>"
      ]
     },
     "metadata": {
      "needs_background": "light"
     },
     "output_type": "display_data"
    }
   ],
   "source": [
    "submission.hist()"
   ]
  },
  {
   "cell_type": "code",
   "execution_count": 12,
   "metadata": {},
   "outputs": [],
   "source": [
    "submission.to_csv('../submissions/LR_balanced_C_0.005728282828282829.csv', index=False)"
   ]
  },
  {
   "cell_type": "code",
   "execution_count": null,
   "metadata": {},
   "outputs": [],
   "source": []
  }
 ],
 "metadata": {
  "kernelspec": {
   "display_name": "Python 3",
   "language": "python",
   "name": "python3"
  },
  "language_info": {
   "codemirror_mode": {
    "name": "ipython",
    "version": 3
   },
   "file_extension": ".py",
   "mimetype": "text/x-python",
   "name": "python",
   "nbconvert_exporter": "python",
   "pygments_lexer": "ipython3",
   "version": "3.8.5"
  }
 },
 "nbformat": 4,
 "nbformat_minor": 4
}
