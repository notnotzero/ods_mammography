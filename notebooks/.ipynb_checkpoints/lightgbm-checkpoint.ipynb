{
 "cells": [
  {
   "cell_type": "code",
   "execution_count": 3,
   "metadata": {},
   "outputs": [],
   "source": [
    "from lightgbm import LGBMClassifier\n",
    "import pandas as pd\n",
    "import numpy as np\n",
    "import seaborn as sns\n",
    "import matplotlib.pyplot as plt\n",
    "import cv2 as cv\n",
    "import matplotlib.patches as patches\n",
    "from PIL import Image\n",
    "from ast import literal_eval\n",
    "from sklearn.linear_model import LinearRegression , LogisticRegression\n",
    "from sklearn.model_selection import train_test_split, cross_val_score\n",
    "from sklearn.tree import DecisionTreeClassifier\n",
    "from sklearn.neighbors import KNeighborsClassifier\n",
    "from sklearn.metrics import mean_squared_error\n",
    "from sklearn.model_selection import GridSearchCV,StratifiedShuffleSplit\n",
    "from sklearn.preprocessing import StandardScaler\n",
    "from imblearn.combine import SMOTETomek \n",
    "from sklearn.ensemble import RandomForestClassifier\n",
    "import sys\n",
    "sys.path.append('..')\n",
    "sys.path.append('../..')\n",
    "sys.path.append('../../..')\n",
    "from soreva_metrics import calculate_metrics\n",
    "from sklearn.metrics import fbeta_score, make_scorer\n",
    "from sklearn.model_selection import StratifiedKFold\n",
    "from imblearn.over_sampling import RandomOverSampler \n",
    "from sklearn.model_selection import RandomizedSearchCV\n",
    "from sklearn.model_selection import RepeatedStratifiedKFold\n",
    "def mean(lst):\n",
    "    return sum(lst) / len(lst)\n",
    "\n",
    "\n",
    "\n",
    "train_df = pd.read_csv('./full_train_df.csv').drop(['Unnamed: 0','index','id'],axis=1)\n",
    "\n",
    "\n",
    "\n",
    "train_df['tc_prediction_mult'] = train_df['tissue_density_predicted'] * train_df['cancer_probability_predicted']\n",
    "\n",
    "\n"
   ]
  },
  {
   "cell_type": "code",
   "execution_count": 4,
   "metadata": {},
   "outputs": [],
   "source": [
    "train_df = train_df.drop(['laterality','patient_id'],axis=1)"
   ]
  },
  {
   "cell_type": "code",
   "execution_count": 235,
   "metadata": {},
   "outputs": [
    {
     "name": "stdout",
     "output_type": "stream",
     "text": [
      "Fitting 5 folds for each of 9 candidates, totalling 45 fits\n"
     ]
    },
    {
     "data": {
      "text/plain": [
       "GridSearchCV(cv=5, estimator=LGBMClassifier(), n_jobs=-1,\n",
       "             param_grid={'boosting_type': ['dart'],\n",
       "                         'class_weight': ['balanced'],\n",
       "                         'n_estimators': [100, 200, 300],\n",
       "                         'reg_alpha': [1.1, 1.2, 1.3]},\n",
       "             refit='score', scoring={'score': make_scorer(calculate_metrics)},\n",
       "             verbose=5)"
      ]
     },
     "execution_count": 235,
     "metadata": {},
     "output_type": "execute_result"
    }
   ],
   "source": [
    "model = LGBMClassifier(boosting_type='dart', class_weight='balanced')\n",
    "\n",
    "X = train_df.drop(['BiRads','CC','MLO'],axis=1)\n",
    "y = train_df['BiRads']\n",
    "\n",
    "param_grid = {\n",
    "#     'boosting_type': ['dart'], #,\n",
    "#     'n_estimators': [100, 200,300],\n",
    "#     'colsample_bytree': [0.7, 0.8],\n",
    "#     'max_depth': [15,20,25],\n",
    "#     'num_leaves': [50, 100, 200],\n",
    "#     'reg_alpha': [1.1,1.2,1.3],\n",
    "#     'reg_lambda': [1.1, 1.2, 1.3],\n",
    "#     'min_split_gain': [0.3, 0.4],\n",
    "#     'subsample': [0.7, 0.8, 0.9],\n",
    "#     'subsample_freq': [20],\n",
    "#     'class_weight' : ['balanced'] }\n",
    "# gs = GridSearchCV(\n",
    "#         model,\n",
    "#         param_grid, \n",
    "#         cv=5, \n",
    "#         n_jobs=-1, \n",
    "#         scoring={'score' : make_scorer(calculate_metrics)},\n",
    "#                                        refit=\"score\",\n",
    "#         verbose=5\n",
    "#     )\n",
    "\n",
    "model.fit(X,y)\n"
   ]
  },
  {
   "cell_type": "code",
   "execution_count": 221,
   "metadata": {},
   "outputs": [
    {
     "data": {
      "text/plain": [
       "-0.09222955686218677"
      ]
     },
     "execution_count": 221,
     "metadata": {},
     "output_type": "execute_result"
    }
   ],
   "source": [
    "# 0.084\n",
    "\n",
    "# gs.best_score_"
   ]
  },
  {
   "cell_type": "code",
   "execution_count": 222,
   "metadata": {},
   "outputs": [
    {
     "data": {
      "text/plain": [
       "{'boosting_type': 'dart',\n",
       " 'class_weight': 'balanced',\n",
       " 'n_estimators': 100,\n",
       " 'reg_alpha': 1.3}"
      ]
     },
     "execution_count": 222,
     "metadata": {},
     "output_type": "execute_result"
    }
   ],
   "source": [
    "# gs.best_params_"
   ]
  },
  {
   "cell_type": "code",
   "execution_count": 8,
   "metadata": {},
   "outputs": [],
   "source": [
    "test_df = pd.read_json('./data_test.json').T\n",
    "test_df['tc_prediction_mult'] = test_df['tissue_density_predicted'] * test_df['cancer_probability_predicted']\n"
   ]
  },
  {
   "cell_type": "code",
   "execution_count": 9,
   "metadata": {},
   "outputs": [],
   "source": [
    "test_df = test_df.drop(['laterality','patient_id','CC','MLO'],axis=1)\n",
    "\n",
    "\n"
   ]
  },
  {
   "cell_type": "code",
   "execution_count": 10,
   "metadata": {},
   "outputs": [
    {
     "data": {
      "text/html": [
       "<div>\n",
       "<style scoped>\n",
       "    .dataframe tbody tr th:only-of-type {\n",
       "        vertical-align: middle;\n",
       "    }\n",
       "\n",
       "    .dataframe tbody tr th {\n",
       "        vertical-align: top;\n",
       "    }\n",
       "\n",
       "    .dataframe thead th {\n",
       "        text-align: right;\n",
       "    }\n",
       "</style>\n",
       "<table border=\"1\" class=\"dataframe\">\n",
       "  <thead>\n",
       "    <tr style=\"text-align: right;\">\n",
       "      <th></th>\n",
       "      <th>tissue_density_predicted</th>\n",
       "      <th>cancer_probability_predicted</th>\n",
       "      <th>tc_prediction_mult</th>\n",
       "    </tr>\n",
       "  </thead>\n",
       "  <tbody>\n",
       "    <tr>\n",
       "      <th>8097d218-2c51-4ec8-9ee8-ea6b7701ef3c</th>\n",
       "      <td>3</td>\n",
       "      <td>0.074</td>\n",
       "      <td>0.222</td>\n",
       "    </tr>\n",
       "    <tr>\n",
       "      <th>4c9a6bed-a454-467c-b51e-451f5ee2db35</th>\n",
       "      <td>2</td>\n",
       "      <td>0.81</td>\n",
       "      <td>1.62</td>\n",
       "    </tr>\n",
       "    <tr>\n",
       "      <th>2737373f-e0ce-4d58-8d0a-0b85925d1783</th>\n",
       "      <td>4</td>\n",
       "      <td>0.951</td>\n",
       "      <td>3.804</td>\n",
       "    </tr>\n",
       "    <tr>\n",
       "      <th>a1298d90-1d62-4a07-a6b4-84999ba8b2c8</th>\n",
       "      <td>3</td>\n",
       "      <td>0.391</td>\n",
       "      <td>1.173</td>\n",
       "    </tr>\n",
       "    <tr>\n",
       "      <th>fdcbc6af-8d74-4537-b965-57e91ed77955</th>\n",
       "      <td>2</td>\n",
       "      <td>0.223</td>\n",
       "      <td>0.446</td>\n",
       "    </tr>\n",
       "    <tr>\n",
       "      <th>...</th>\n",
       "      <td>...</td>\n",
       "      <td>...</td>\n",
       "      <td>...</td>\n",
       "    </tr>\n",
       "    <tr>\n",
       "      <th>67db950f-8a39-4594-82a4-6b22db8afb76</th>\n",
       "      <td>1</td>\n",
       "      <td>1</td>\n",
       "      <td>1</td>\n",
       "    </tr>\n",
       "    <tr>\n",
       "      <th>679973f5-e12b-457d-b149-7c2cd456973e</th>\n",
       "      <td>4</td>\n",
       "      <td>0.071</td>\n",
       "      <td>0.284</td>\n",
       "    </tr>\n",
       "    <tr>\n",
       "      <th>eb0a4b02-1d68-4b62-bcaa-1825ce5804d2</th>\n",
       "      <td>3</td>\n",
       "      <td>0.431</td>\n",
       "      <td>1.293</td>\n",
       "    </tr>\n",
       "    <tr>\n",
       "      <th>061be2ba-9c5d-4c19-815c-deb227a9cc68</th>\n",
       "      <td>1</td>\n",
       "      <td>0.06</td>\n",
       "      <td>0.06</td>\n",
       "    </tr>\n",
       "    <tr>\n",
       "      <th>667ccd8d-51dd-4f32-9c6f-5883b7dee573</th>\n",
       "      <td>2</td>\n",
       "      <td>0.998</td>\n",
       "      <td>1.996</td>\n",
       "    </tr>\n",
       "  </tbody>\n",
       "</table>\n",
       "<p>4663 rows × 3 columns</p>\n",
       "</div>"
      ],
      "text/plain": [
       "                                     tissue_density_predicted  \\\n",
       "8097d218-2c51-4ec8-9ee8-ea6b7701ef3c                        3   \n",
       "4c9a6bed-a454-467c-b51e-451f5ee2db35                        2   \n",
       "2737373f-e0ce-4d58-8d0a-0b85925d1783                        4   \n",
       "a1298d90-1d62-4a07-a6b4-84999ba8b2c8                        3   \n",
       "fdcbc6af-8d74-4537-b965-57e91ed77955                        2   \n",
       "...                                                       ...   \n",
       "67db950f-8a39-4594-82a4-6b22db8afb76                        1   \n",
       "679973f5-e12b-457d-b149-7c2cd456973e                        4   \n",
       "eb0a4b02-1d68-4b62-bcaa-1825ce5804d2                        3   \n",
       "061be2ba-9c5d-4c19-815c-deb227a9cc68                        1   \n",
       "667ccd8d-51dd-4f32-9c6f-5883b7dee573                        2   \n",
       "\n",
       "                                     cancer_probability_predicted  \\\n",
       "8097d218-2c51-4ec8-9ee8-ea6b7701ef3c                        0.074   \n",
       "4c9a6bed-a454-467c-b51e-451f5ee2db35                         0.81   \n",
       "2737373f-e0ce-4d58-8d0a-0b85925d1783                        0.951   \n",
       "a1298d90-1d62-4a07-a6b4-84999ba8b2c8                        0.391   \n",
       "fdcbc6af-8d74-4537-b965-57e91ed77955                        0.223   \n",
       "...                                                           ...   \n",
       "67db950f-8a39-4594-82a4-6b22db8afb76                            1   \n",
       "679973f5-e12b-457d-b149-7c2cd456973e                        0.071   \n",
       "eb0a4b02-1d68-4b62-bcaa-1825ce5804d2                        0.431   \n",
       "061be2ba-9c5d-4c19-815c-deb227a9cc68                         0.06   \n",
       "667ccd8d-51dd-4f32-9c6f-5883b7dee573                        0.998   \n",
       "\n",
       "                                     tc_prediction_mult  \n",
       "8097d218-2c51-4ec8-9ee8-ea6b7701ef3c              0.222  \n",
       "4c9a6bed-a454-467c-b51e-451f5ee2db35               1.62  \n",
       "2737373f-e0ce-4d58-8d0a-0b85925d1783              3.804  \n",
       "a1298d90-1d62-4a07-a6b4-84999ba8b2c8              1.173  \n",
       "fdcbc6af-8d74-4537-b965-57e91ed77955              0.446  \n",
       "...                                                 ...  \n",
       "67db950f-8a39-4594-82a4-6b22db8afb76                  1  \n",
       "679973f5-e12b-457d-b149-7c2cd456973e              0.284  \n",
       "eb0a4b02-1d68-4b62-bcaa-1825ce5804d2              1.293  \n",
       "061be2ba-9c5d-4c19-815c-deb227a9cc68               0.06  \n",
       "667ccd8d-51dd-4f32-9c6f-5883b7dee573              1.996  \n",
       "\n",
       "[4663 rows x 3 columns]"
      ]
     },
     "execution_count": 10,
     "metadata": {},
     "output_type": "execute_result"
    }
   ],
   "source": [
    "test_df"
   ]
  },
  {
   "cell_type": "code",
   "execution_count": 247,
   "metadata": {},
   "outputs": [],
   "source": [
    "test_df['tissue_density_predicted'] = pd.to_numeric(test_df['tissue_density_predicted'])\n",
    "test_df['cancer_probability_predicted'] = pd.to_numeric(test_df['cancer_probability_predicted'])\n",
    "test_df['tc_prediction_mult'] = pd.to_numeric(test_df['tc_prediction_mult'])\n"
   ]
  },
  {
   "cell_type": "code",
   "execution_count": 11,
   "metadata": {},
   "outputs": [
    {
     "ename": "NameError",
     "evalue": "name 'gs' is not defined",
     "output_type": "error",
     "traceback": [
      "\u001b[0;31m---------------------------------------------------------------------------\u001b[0m",
      "\u001b[0;31mNameError\u001b[0m                                 Traceback (most recent call last)",
      "\u001b[0;32m<ipython-input-11-780e6353e3a2>\u001b[0m in \u001b[0;36m<module>\u001b[0;34m\u001b[0m\n\u001b[0;32m----> 1\u001b[0;31m \u001b[0mprediction\u001b[0m \u001b[0;34m=\u001b[0m  \u001b[0mgs\u001b[0m\u001b[0;34m.\u001b[0m\u001b[0mbest_estimator_\u001b[0m\u001b[0;34m.\u001b[0m\u001b[0mpredict\u001b[0m\u001b[0;34m(\u001b[0m\u001b[0mtest_df\u001b[0m\u001b[0;34m)\u001b[0m\u001b[0;34m\u001b[0m\u001b[0;34m\u001b[0m\u001b[0m\n\u001b[0m\u001b[1;32m      2\u001b[0m \u001b[0msubmission\u001b[0m \u001b[0;34m=\u001b[0m \u001b[0mpd\u001b[0m\u001b[0;34m.\u001b[0m\u001b[0mDataFrame\u001b[0m\u001b[0;34m(\u001b[0m\u001b[0;34m{\u001b[0m\u001b[0;34m'id'\u001b[0m \u001b[0;34m:\u001b[0m \u001b[0mtest_df\u001b[0m\u001b[0;34m.\u001b[0m\u001b[0mindex\u001b[0m \u001b[0;34m,\u001b[0m\u001b[0;34m'BiRads'\u001b[0m\u001b[0;34m:\u001b[0m\u001b[0mprediction\u001b[0m\u001b[0;34m}\u001b[0m\u001b[0;34m)\u001b[0m\u001b[0;34m\u001b[0m\u001b[0;34m\u001b[0m\u001b[0m\n\u001b[1;32m      3\u001b[0m \u001b[0;34m\u001b[0m\u001b[0m\n\u001b[1;32m      4\u001b[0m \u001b[0msubmission\u001b[0m\u001b[0;34m.\u001b[0m\u001b[0mto_csv\u001b[0m\u001b[0;34m(\u001b[0m\u001b[0;34m'../../submissions/lightgbm_with_second_breast.csv'\u001b[0m\u001b[0;34m,\u001b[0m \u001b[0mindex\u001b[0m\u001b[0;34m=\u001b[0m\u001b[0;32mFalse\u001b[0m\u001b[0;34m)\u001b[0m\u001b[0;34m\u001b[0m\u001b[0;34m\u001b[0m\u001b[0m\n",
      "\u001b[0;31mNameError\u001b[0m: name 'gs' is not defined"
     ]
    }
   ],
   "source": [
    "prediction =  model.predict(test_df)\n",
    "submission = pd.DataFrame({'id' : test_df.index ,'BiRads':prediction})\n",
    "\n",
    "submission.to_csv('../../submissions/lightgbm_with_second_breast.csv', index=False)"
   ]
  },
  {
   "cell_type": "code",
   "execution_count": 250,
   "metadata": {},
   "outputs": [
    {
     "data": {
      "text/plain": [
       "array([[<AxesSubplot:title={'center':'BiRads'}>]], dtype=object)"
      ]
     },
     "execution_count": 250,
     "metadata": {},
     "output_type": "execute_result"
    },
    {
     "data": {
      "image/png": "[encoded data removed]",
      "text/plain": [
       "<Figure size 432x288 with 1 Axes>"
      ]
     },
     "metadata": {
      "needs_background": "light"
     },
     "output_type": "display_data"
    }
   ],
   "source": [
    "submission.hist()"
   ]
  },
  {
   "cell_type": "code",
   "execution_count": null,
   "metadata": {},
   "outputs": [],
   "source": []
  }
 ],
 "metadata": {
  "kernelspec": {
   "display_name": "Python 3",
   "language": "python",
   "name": "python3"
  },
  "language_info": {
   "codemirror_mode": {
    "name": "ipython",
    "version": 3
   },
   "file_extension": ".py",
   "mimetype": "text/x-python",
   "name": "python",
   "nbconvert_exporter": "python",
   "pygments_lexer": "ipython3",
   "version": "3.8.5"
  }
 },
 "nbformat": 4,
 "nbformat_minor": 4
}
