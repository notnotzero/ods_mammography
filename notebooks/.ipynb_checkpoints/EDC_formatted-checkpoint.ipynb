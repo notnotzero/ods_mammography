{
 "cells": [
  {
   "cell_type": "code",
   "execution_count": 1,
   "metadata": {},
   "outputs": [],
   "source": [
    "import pandas as pd\n",
    "import numpy as np\n",
    "import seaborn as sns\n",
    "import matplotlib.pyplot as plt\n",
    "import cv2 as cv\n",
    "import matplotlib.patches as patches\n",
    "from PIL import Image\n",
    "from ast import literal_eval\n",
    "from sklearn.linear_model import LinearRegression \n",
    "from sklearn.model_selection import train_test_split, cross_val_score\n",
    "from sklearn.tree import DecisionTreeClassifier\n",
    "from sklearn.neighbors import KNeighborsClassifier\n",
    "from sklearn.metrics import mean_squared_error\n",
    "from sklearn.model_selection import GridSearchCV\n",
    "\n",
    "import sys\n",
    "sys.path.append('..')\n",
    "from soreva_metrics import calculate_metrics\n",
    "from sklearn.metrics import fbeta_score, make_scorer\n"
   ]
  },
  {
   "cell_type": "code",
   "execution_count": 2,
   "metadata": {},
   "outputs": [
    {
     "data": {
      "text/html": [
       "<div>\n",
       "<style scoped>\n",
       "    .dataframe tbody tr th:only-of-type {\n",
       "        vertical-align: middle;\n",
       "    }\n",
       "\n",
       "    .dataframe tbody tr th {\n",
       "        vertical-align: top;\n",
       "    }\n",
       "\n",
       "    .dataframe thead th {\n",
       "        text-align: right;\n",
       "    }\n",
       "</style>\n",
       "<table border=\"1\" class=\"dataframe\">\n",
       "  <thead>\n",
       "    <tr style=\"text-align: right;\">\n",
       "      <th></th>\n",
       "      <th>index</th>\n",
       "      <th>laterality</th>\n",
       "      <th>patient_id</th>\n",
       "      <th>tissue_density_predicted</th>\n",
       "      <th>cancer_probability_predicted</th>\n",
       "      <th>CC</th>\n",
       "      <th>MLO</th>\n",
       "      <th>BiRads</th>\n",
       "    </tr>\n",
       "  </thead>\n",
       "  <tbody>\n",
       "    <tr>\n",
       "      <th>0</th>\n",
       "      <td>f55c7e1c-9c91-4509-8724-4309341db0a5</td>\n",
       "      <td>L</td>\n",
       "      <td>2784</td>\n",
       "      <td>1</td>\n",
       "      <td>0.045</td>\n",
       "      <td>[{'coordinates': [484, 600, 518, 628], 'object...</td>\n",
       "      <td>[{'coordinates': [263, 2130, 285, 2151], 'obje...</td>\n",
       "      <td>1</td>\n",
       "    </tr>\n",
       "    <tr>\n",
       "      <th>1</th>\n",
       "      <td>7ce278f3-df17-4b91-b17a-d038005a044f</td>\n",
       "      <td>R</td>\n",
       "      <td>2784</td>\n",
       "      <td>2</td>\n",
       "      <td>0.350</td>\n",
       "      <td>[{'coordinates': [793, 877, 815, 901], 'object...</td>\n",
       "      <td>[{'coordinates': [1, 260, 49, 331], 'object_ty...</td>\n",
       "      <td>1</td>\n",
       "    </tr>\n",
       "    <tr>\n",
       "      <th>2</th>\n",
       "      <td>8e462f38-8063-46c0-bdf5-15be8c3bebbb</td>\n",
       "      <td>L</td>\n",
       "      <td>1079</td>\n",
       "      <td>2</td>\n",
       "      <td>0.993</td>\n",
       "      <td>[{'coordinates': [837, 1026, 877, 1077], 'obje...</td>\n",
       "      <td>[{'coordinates': [318, 1006, 468, 1139], 'obje...</td>\n",
       "      <td>1</td>\n",
       "    </tr>\n",
       "    <tr>\n",
       "      <th>3</th>\n",
       "      <td>3dbd7019-8e7b-4e2d-8343-e976b0f9d581</td>\n",
       "      <td>R</td>\n",
       "      <td>1079</td>\n",
       "      <td>2</td>\n",
       "      <td>0.963</td>\n",
       "      <td>[{'coordinates': [163, 749, 182, 768], 'object...</td>\n",
       "      <td>[{'coordinates': [444, 1397, 521, 1520], 'obje...</td>\n",
       "      <td>1</td>\n",
       "    </tr>\n",
       "    <tr>\n",
       "      <th>4</th>\n",
       "      <td>71981fe9-8f8e-4ee1-834e-832ae0f9ab39</td>\n",
       "      <td>L</td>\n",
       "      <td>952</td>\n",
       "      <td>2</td>\n",
       "      <td>0.974</td>\n",
       "      <td>[{'coordinates': [376, 426, 466, 482], 'object...</td>\n",
       "      <td>[{'coordinates': [458, 1413, 510, 1472], 'obje...</td>\n",
       "      <td>2</td>\n",
       "    </tr>\n",
       "  </tbody>\n",
       "</table>\n",
       "</div>"
      ],
      "text/plain": [
       "                                  index laterality  patient_id  \\\n",
       "0  f55c7e1c-9c91-4509-8724-4309341db0a5          L        2784   \n",
       "1  7ce278f3-df17-4b91-b17a-d038005a044f          R        2784   \n",
       "2  8e462f38-8063-46c0-bdf5-15be8c3bebbb          L        1079   \n",
       "3  3dbd7019-8e7b-4e2d-8343-e976b0f9d581          R        1079   \n",
       "4  71981fe9-8f8e-4ee1-834e-832ae0f9ab39          L         952   \n",
       "\n",
       "   tissue_density_predicted  cancer_probability_predicted  \\\n",
       "0                         1                         0.045   \n",
       "1                         2                         0.350   \n",
       "2                         2                         0.993   \n",
       "3                         2                         0.963   \n",
       "4                         2                         0.974   \n",
       "\n",
       "                                                  CC  \\\n",
       "0  [{'coordinates': [484, 600, 518, 628], 'object...   \n",
       "1  [{'coordinates': [793, 877, 815, 901], 'object...   \n",
       "2  [{'coordinates': [837, 1026, 877, 1077], 'obje...   \n",
       "3  [{'coordinates': [163, 749, 182, 768], 'object...   \n",
       "4  [{'coordinates': [376, 426, 466, 482], 'object...   \n",
       "\n",
       "                                                 MLO  BiRads  \n",
       "0  [{'coordinates': [263, 2130, 285, 2151], 'obje...       1  \n",
       "1  [{'coordinates': [1, 260, 49, 331], 'object_ty...       1  \n",
       "2  [{'coordinates': [318, 1006, 468, 1139], 'obje...       1  \n",
       "3  [{'coordinates': [444, 1397, 521, 1520], 'obje...       1  \n",
       "4  [{'coordinates': [458, 1413, 510, 1472], 'obje...       2  "
      ]
     },
     "execution_count": 2,
     "metadata": {},
     "output_type": "execute_result"
    }
   ],
   "source": [
    "full_train_df = pd.read_csv('../new_data/full_train_df.csv')\n",
    "full_train_df.drop(['Unnamed: 0','id'],axis=1,inplace=True)\n",
    "full_train_df['CC'] = full_train_df['CC'].apply(literal_eval)\n",
    "full_train_df.head()\n",
    "\n"
   ]
  },
  {
   "cell_type": "code",
   "execution_count": 3,
   "metadata": {},
   "outputs": [],
   "source": [
    "test_df = pd.read_json('../orig_data/data_test/data_test.json').T\n"
   ]
  },
  {
   "cell_type": "code",
   "execution_count": 4,
   "metadata": {},
   "outputs": [],
   "source": [
    "plt.rcParams['figure.figsize'] = (15, 5)"
   ]
  },
  {
   "cell_type": "code",
   "execution_count": 5,
   "metadata": {},
   "outputs": [
    {
     "data": {
      "text/plain": [
       "<AxesSubplot:xlabel='BiRads', ylabel='cancer_probability_predicted'>"
      ]
     },
     "execution_count": 5,
     "metadata": {},
     "output_type": "execute_result"
    },
    {
     "data": {
      "image/png": "[encoded data removed]",
      "text/plain": [
       "<Figure size 1080x360 with 1 Axes>"
      ]
     },
     "metadata": {
      "needs_background": "light"
     },
     "output_type": "display_data"
    }
   ],
   "source": [
    "sns.boxplot(y=full_train_df['cancer_probability_predicted'],x=full_train_df['BiRads'])"
   ]
  },
  {
   "cell_type": "code",
   "execution_count": 6,
   "metadata": {},
   "outputs": [
    {
     "data": {
      "image/png": "[encoded data removed]",
      "text/plain": [
       "<Figure size 1080x360 with 1 Axes>"
      ]
     },
     "metadata": {
      "needs_background": "light"
     },
     "output_type": "display_data"
    }
   ],
   "source": [
    "g = sns.countplot(x='BiRads',hue='tissue_density_predicted', data=full_train_df)\n",
    "g.set_yscale(\"log\")"
   ]
  },
  {
   "cell_type": "code",
   "execution_count": null,
   "metadata": {},
   "outputs": [],
   "source": []
  },
  {
   "cell_type": "code",
   "execution_count": 7,
   "metadata": {},
   "outputs": [
    {
     "data": {
      "text/plain": [
       "<AxesSubplot:xlabel='BiRads', ylabel='tissue_density_predicted'>"
      ]
     },
     "execution_count": 7,
     "metadata": {},
     "output_type": "execute_result"
    },
    {
     "data": {
      "image/png": "[encoded data removed]",
      "text/plain": [
       "<Figure size 1080x360 with 1 Axes>"
      ]
     },
     "metadata": {
      "needs_background": "light"
     },
     "output_type": "display_data"
    }
   ],
   "source": [
    "sns.boxplot(y=full_train_df['tissue_density_predicted'],x=full_train_df['BiRads'])"
   ]
  },
  {
   "cell_type": "code",
   "execution_count": 8,
   "metadata": {},
   "outputs": [
    {
     "data": {
      "text/plain": [
       "<AxesSubplot:xlabel='BiRads', ylabel='count'>"
      ]
     },
     "execution_count": 8,
     "metadata": {},
     "output_type": "execute_result"
    },
    {
     "data": {
      "image/png": "[encoded data removed]",
      "text/plain": [
       "<Figure size 1080x360 with 1 Axes>"
      ]
     },
     "metadata": {
      "needs_background": "light"
     },
     "output_type": "display_data"
    }
   ],
   "source": [
    "sns.countplot(x='BiRads',hue='laterality', data=full_train_df)"
   ]
  },
  {
   "cell_type": "code",
   "execution_count": 9,
   "metadata": {},
   "outputs": [],
   "source": [
    "categorical_birads = {}\n",
    "\n",
    "\n",
    "\n",
    "set_1 = set()\n",
    "set_2_3_4_5 = set()\n",
    "\n",
    "class_1 = {}\n",
    "\n",
    "for CC in full_train_df[full_train_df['BiRads'] == 1]['CC']:\n",
    "    for detection in CC:\n",
    "        set_1.add(detection['object_type'])\n",
    "        if detection['object_type'] in class_1:\n",
    "            class_1[detection['object_type']] += 1  \n",
    "        else: \n",
    "            class_1[detection['object_type']] = 1  \n",
    "\n",
    "class_2 = {}\n",
    "\n",
    "for CC in full_train_df[full_train_df['BiRads'] == 2]['CC']:\n",
    "    for detection in CC:\n",
    "        set_2_3_4_5.add(detection['object_type'])\n",
    "        if detection['object_type'] in class_2:\n",
    "            class_2[detection['object_type']] += 1  \n",
    "        else: \n",
    "            class_2[detection['object_type']] = 1 \n",
    "            \n",
    "class_3 = {}\n",
    "\n",
    "for CC in full_train_df[full_train_df['BiRads'] == 3]['CC']:\n",
    "    for detection in CC:\n",
    "        set_2_3_4_5.add(detection['object_type'])\n",
    "        if detection['object_type'] in class_3:\n",
    "            class_3[detection['object_type']] += 1  \n",
    "        else: \n",
    "            class_3[detection['object_type']] = 1 \n",
    "\n",
    "class_4 = {}\n",
    "\n",
    "for CC in full_train_df[full_train_df['BiRads'] == 4]['CC']:\n",
    "    for detection in CC:\n",
    "        set_2_3_4_5.add(detection['object_type'])\n",
    "        \n",
    "        if detection['object_type'] in class_4:\n",
    "            class_4[detection['object_type']] += 1  \n",
    "        else: \n",
    "            class_4[detection['object_type']] = 1  \n",
    "\n",
    "class_5 = {}\n",
    "\n",
    "for CC in full_train_df[full_train_df['BiRads'] == 5]['CC']:\n",
    "    for detection in CC:\n",
    "        set_2_3_4_5.add(detection['object_type'])\n",
    "        \n",
    "        if detection['object_type'] in class_5:\n",
    "            class_5[detection['object_type']] += 1  \n",
    "        else: \n",
    "            class_5[detection['object_type']] = 1  "
   ]
  },
  {
   "cell_type": "code",
   "execution_count": 10,
   "metadata": {},
   "outputs": [
    {
     "data": {
      "text/plain": [
       "{'mass_benign': 7262,\n",
       " 'mass_malignant': 4093,\n",
       " 'calcinates_benign': 24712,\n",
       " 'calcinates_malignant': 1096,\n",
       " 'calcified cyst': 1150,\n",
       " 'calcified vessels': 1616,\n",
       " 'fibrocystic_breast_changes': 1883,\n",
       " 'nipple': 1783,\n",
       " 'other': 2090,\n",
       " 'pectoral muscle': 614,\n",
       " 'lymphonodus': 120,\n",
       " 'artifact': 133,\n",
       " 'skin_thickening': 706,\n",
       " 'papilloma': 5}"
      ]
     },
     "execution_count": 10,
     "metadata": {},
     "output_type": "execute_result"
    }
   ],
   "source": [
    "class_1"
   ]
  },
  {
   "cell_type": "code",
   "execution_count": 11,
   "metadata": {},
   "outputs": [
    {
     "data": {
      "text/plain": [
       "{'mass_benign': 15406,\n",
       " 'mass_malignant': 8861,\n",
       " 'calcinates_benign': 56166,\n",
       " 'calcified vessels': 4113,\n",
       " 'fibrocystic_breast_changes': 3731,\n",
       " 'nipple': 3064,\n",
       " 'other': 3333,\n",
       " 'pectoral muscle': 951,\n",
       " 'artifact': 306,\n",
       " 'calcinates_malignant': 3337,\n",
       " 'calcified cyst': 3493,\n",
       " 'skin_thickening': 1349,\n",
       " 'lymphonodus': 372,\n",
       " 'papilloma': 25}"
      ]
     },
     "execution_count": 11,
     "metadata": {},
     "output_type": "execute_result"
    }
   ],
   "source": [
    "class_2"
   ]
  },
  {
   "cell_type": "code",
   "execution_count": 12,
   "metadata": {},
   "outputs": [
    {
     "data": {
      "text/plain": [
       "{'mass_benign': 783,\n",
       " 'mass_malignant': 542,\n",
       " 'calcinates_benign': 2564,\n",
       " 'calcinates_malignant': 229,\n",
       " 'calcified cyst': 161,\n",
       " 'calcified vessels': 193,\n",
       " 'fibrocystic_breast_changes': 214,\n",
       " 'nipple': 146,\n",
       " 'other': 162,\n",
       " 'skin_thickening': 82,\n",
       " 'pectoral muscle': 43,\n",
       " 'lymphonodus': 26,\n",
       " 'papilloma': 3,\n",
       " 'artifact': 14}"
      ]
     },
     "execution_count": 12,
     "metadata": {},
     "output_type": "execute_result"
    }
   ],
   "source": [
    "class_3"
   ]
  },
  {
   "cell_type": "code",
   "execution_count": 13,
   "metadata": {},
   "outputs": [
    {
     "data": {
      "text/plain": [
       "{'mass_benign': 357,\n",
       " 'mass_malignant': 250,\n",
       " 'calcinates_benign': 1327,\n",
       " 'calcinates_malignant': 115,\n",
       " 'calcified cyst': 52,\n",
       " 'calcified vessels': 107,\n",
       " 'fibrocystic_breast_changes': 83,\n",
       " 'nipple': 54,\n",
       " 'other': 55,\n",
       " 'pectoral muscle': 26,\n",
       " 'lymphonodus': 10,\n",
       " 'skin_thickening': 22,\n",
       " 'artifact': 8}"
      ]
     },
     "execution_count": 13,
     "metadata": {},
     "output_type": "execute_result"
    }
   ],
   "source": [
    "class_4"
   ]
  },
  {
   "cell_type": "code",
   "execution_count": 14,
   "metadata": {},
   "outputs": [
    {
     "data": {
      "text/plain": [
       "{'mass_benign': 42,\n",
       " 'mass_malignant': 31,\n",
       " 'calcinates_benign': 154,\n",
       " 'calcified cyst': 10,\n",
       " 'fibrocystic_breast_changes': 7,\n",
       " 'nipple': 5,\n",
       " 'other': 9,\n",
       " 'skin_thickening': 7,\n",
       " 'artifact': 2,\n",
       " 'calcinates_malignant': 17,\n",
       " 'calcified vessels': 13,\n",
       " 'lymphonodus': 1,\n",
       " 'pectoral muscle': 2}"
      ]
     },
     "execution_count": 14,
     "metadata": {},
     "output_type": "execute_result"
    }
   ],
   "source": [
    "class_5"
   ]
  },
  {
   "cell_type": "code",
   "execution_count": 15,
   "metadata": {},
   "outputs": [
    {
     "data": {
      "text/html": [
       "<div>\n",
       "<style scoped>\n",
       "    .dataframe tbody tr th:only-of-type {\n",
       "        vertical-align: middle;\n",
       "    }\n",
       "\n",
       "    .dataframe tbody tr th {\n",
       "        vertical-align: top;\n",
       "    }\n",
       "\n",
       "    .dataframe thead th {\n",
       "        text-align: right;\n",
       "    }\n",
       "</style>\n",
       "<table border=\"1\" class=\"dataframe\">\n",
       "  <thead>\n",
       "    <tr style=\"text-align: right;\">\n",
       "      <th></th>\n",
       "      <th>laterality</th>\n",
       "      <th>patient_id</th>\n",
       "      <th>tissue_density_predicted</th>\n",
       "      <th>cancer_probability_predicted</th>\n",
       "      <th>CC</th>\n",
       "      <th>MLO</th>\n",
       "    </tr>\n",
       "  </thead>\n",
       "  <tbody>\n",
       "    <tr>\n",
       "      <th>8097d218-2c51-4ec8-9ee8-ea6b7701ef3c</th>\n",
       "      <td>R</td>\n",
       "      <td>415</td>\n",
       "      <td>3</td>\n",
       "      <td>0.074</td>\n",
       "      <td>[{'coordinates': [6, 216, 154, 427], 'object_t...</td>\n",
       "      <td>[{'coordinates': [29, 179, 87, 249], 'object_t...</td>\n",
       "    </tr>\n",
       "    <tr>\n",
       "      <th>4c9a6bed-a454-467c-b51e-451f5ee2db35</th>\n",
       "      <td>R</td>\n",
       "      <td>1254</td>\n",
       "      <td>2</td>\n",
       "      <td>0.81</td>\n",
       "      <td>[{'coordinates': [652, 635, 793, 797], 'object...</td>\n",
       "      <td>[{'coordinates': [668, 1281, 862, 1514], 'obje...</td>\n",
       "    </tr>\n",
       "    <tr>\n",
       "      <th>2737373f-e0ce-4d58-8d0a-0b85925d1783</th>\n",
       "      <td>R</td>\n",
       "      <td>973</td>\n",
       "      <td>4</td>\n",
       "      <td>0.951</td>\n",
       "      <td>[{'coordinates': [623, 1269, 745, 1374], 'obje...</td>\n",
       "      <td>[{'coordinates': [478, 1522, 624, 1661], 'obje...</td>\n",
       "    </tr>\n",
       "    <tr>\n",
       "      <th>a1298d90-1d62-4a07-a6b4-84999ba8b2c8</th>\n",
       "      <td>R</td>\n",
       "      <td>1234</td>\n",
       "      <td>3</td>\n",
       "      <td>0.391</td>\n",
       "      <td>[{'coordinates': [207, 668, 291, 753], 'object...</td>\n",
       "      <td>[{'coordinates': [361, 195, 404, 236], 'object...</td>\n",
       "    </tr>\n",
       "    <tr>\n",
       "      <th>fdcbc6af-8d74-4537-b965-57e91ed77955</th>\n",
       "      <td>L</td>\n",
       "      <td>2277</td>\n",
       "      <td>2</td>\n",
       "      <td>0.223</td>\n",
       "      <td>[{'coordinates': [199, 1145, 245, 1181], 'obje...</td>\n",
       "      <td>[{'coordinates': [325, 1265, 373, 1319], 'obje...</td>\n",
       "    </tr>\n",
       "  </tbody>\n",
       "</table>\n",
       "</div>"
      ],
      "text/plain": [
       "                                     laterality patient_id  \\\n",
       "8097d218-2c51-4ec8-9ee8-ea6b7701ef3c          R        415   \n",
       "4c9a6bed-a454-467c-b51e-451f5ee2db35          R       1254   \n",
       "2737373f-e0ce-4d58-8d0a-0b85925d1783          R        973   \n",
       "a1298d90-1d62-4a07-a6b4-84999ba8b2c8          R       1234   \n",
       "fdcbc6af-8d74-4537-b965-57e91ed77955          L       2277   \n",
       "\n",
       "                                     tissue_density_predicted  \\\n",
       "8097d218-2c51-4ec8-9ee8-ea6b7701ef3c                        3   \n",
       "4c9a6bed-a454-467c-b51e-451f5ee2db35                        2   \n",
       "2737373f-e0ce-4d58-8d0a-0b85925d1783                        4   \n",
       "a1298d90-1d62-4a07-a6b4-84999ba8b2c8                        3   \n",
       "fdcbc6af-8d74-4537-b965-57e91ed77955                        2   \n",
       "\n",
       "                                     cancer_probability_predicted  \\\n",
       "8097d218-2c51-4ec8-9ee8-ea6b7701ef3c                        0.074   \n",
       "4c9a6bed-a454-467c-b51e-451f5ee2db35                         0.81   \n",
       "2737373f-e0ce-4d58-8d0a-0b85925d1783                        0.951   \n",
       "a1298d90-1d62-4a07-a6b4-84999ba8b2c8                        0.391   \n",
       "fdcbc6af-8d74-4537-b965-57e91ed77955                        0.223   \n",
       "\n",
       "                                                                                     CC  \\\n",
       "8097d218-2c51-4ec8-9ee8-ea6b7701ef3c  [{'coordinates': [6, 216, 154, 427], 'object_t...   \n",
       "4c9a6bed-a454-467c-b51e-451f5ee2db35  [{'coordinates': [652, 635, 793, 797], 'object...   \n",
       "2737373f-e0ce-4d58-8d0a-0b85925d1783  [{'coordinates': [623, 1269, 745, 1374], 'obje...   \n",
       "a1298d90-1d62-4a07-a6b4-84999ba8b2c8  [{'coordinates': [207, 668, 291, 753], 'object...   \n",
       "fdcbc6af-8d74-4537-b965-57e91ed77955  [{'coordinates': [199, 1145, 245, 1181], 'obje...   \n",
       "\n",
       "                                                                                    MLO  \n",
       "8097d218-2c51-4ec8-9ee8-ea6b7701ef3c  [{'coordinates': [29, 179, 87, 249], 'object_t...  \n",
       "4c9a6bed-a454-467c-b51e-451f5ee2db35  [{'coordinates': [668, 1281, 862, 1514], 'obje...  \n",
       "2737373f-e0ce-4d58-8d0a-0b85925d1783  [{'coordinates': [478, 1522, 624, 1661], 'obje...  \n",
       "a1298d90-1d62-4a07-a6b4-84999ba8b2c8  [{'coordinates': [361, 195, 404, 236], 'object...  \n",
       "fdcbc6af-8d74-4537-b965-57e91ed77955  [{'coordinates': [325, 1265, 373, 1319], 'obje...  "
      ]
     },
     "execution_count": 15,
     "metadata": {},
     "output_type": "execute_result"
    }
   ],
   "source": [
    "test_df.head()"
   ]
  },
  {
   "cell_type": "code",
   "execution_count": 16,
   "metadata": {},
   "outputs": [
    {
     "data": {
      "text/html": [
       "<div>\n",
       "<style scoped>\n",
       "    .dataframe tbody tr th:only-of-type {\n",
       "        vertical-align: middle;\n",
       "    }\n",
       "\n",
       "    .dataframe tbody tr th {\n",
       "        vertical-align: top;\n",
       "    }\n",
       "\n",
       "    .dataframe thead th {\n",
       "        text-align: right;\n",
       "    }\n",
       "</style>\n",
       "<table border=\"1\" class=\"dataframe\">\n",
       "  <thead>\n",
       "    <tr style=\"text-align: right;\">\n",
       "      <th></th>\n",
       "      <th>index</th>\n",
       "      <th>laterality</th>\n",
       "      <th>patient_id</th>\n",
       "      <th>tissue_density_predicted</th>\n",
       "      <th>cancer_probability_predicted</th>\n",
       "      <th>CC</th>\n",
       "      <th>MLO</th>\n",
       "      <th>BiRads</th>\n",
       "    </tr>\n",
       "  </thead>\n",
       "  <tbody>\n",
       "    <tr>\n",
       "      <th>0</th>\n",
       "      <td>f55c7e1c-9c91-4509-8724-4309341db0a5</td>\n",
       "      <td>L</td>\n",
       "      <td>2784</td>\n",
       "      <td>1</td>\n",
       "      <td>0.045</td>\n",
       "      <td>[{'coordinates': [484, 600, 518, 628], 'object...</td>\n",
       "      <td>[{'coordinates': [263, 2130, 285, 2151], 'obje...</td>\n",
       "      <td>1</td>\n",
       "    </tr>\n",
       "    <tr>\n",
       "      <th>1</th>\n",
       "      <td>7ce278f3-df17-4b91-b17a-d038005a044f</td>\n",
       "      <td>R</td>\n",
       "      <td>2784</td>\n",
       "      <td>2</td>\n",
       "      <td>0.350</td>\n",
       "      <td>[{'coordinates': [793, 877, 815, 901], 'object...</td>\n",
       "      <td>[{'coordinates': [1, 260, 49, 331], 'object_ty...</td>\n",
       "      <td>1</td>\n",
       "    </tr>\n",
       "    <tr>\n",
       "      <th>2</th>\n",
       "      <td>8e462f38-8063-46c0-bdf5-15be8c3bebbb</td>\n",
       "      <td>L</td>\n",
       "      <td>1079</td>\n",
       "      <td>2</td>\n",
       "      <td>0.993</td>\n",
       "      <td>[{'coordinates': [837, 1026, 877, 1077], 'obje...</td>\n",
       "      <td>[{'coordinates': [318, 1006, 468, 1139], 'obje...</td>\n",
       "      <td>1</td>\n",
       "    </tr>\n",
       "    <tr>\n",
       "      <th>3</th>\n",
       "      <td>3dbd7019-8e7b-4e2d-8343-e976b0f9d581</td>\n",
       "      <td>R</td>\n",
       "      <td>1079</td>\n",
       "      <td>2</td>\n",
       "      <td>0.963</td>\n",
       "      <td>[{'coordinates': [163, 749, 182, 768], 'object...</td>\n",
       "      <td>[{'coordinates': [444, 1397, 521, 1520], 'obje...</td>\n",
       "      <td>1</td>\n",
       "    </tr>\n",
       "    <tr>\n",
       "      <th>4</th>\n",
       "      <td>71981fe9-8f8e-4ee1-834e-832ae0f9ab39</td>\n",
       "      <td>L</td>\n",
       "      <td>952</td>\n",
       "      <td>2</td>\n",
       "      <td>0.974</td>\n",
       "      <td>[{'coordinates': [376, 426, 466, 482], 'object...</td>\n",
       "      <td>[{'coordinates': [458, 1413, 510, 1472], 'obje...</td>\n",
       "      <td>2</td>\n",
       "    </tr>\n",
       "  </tbody>\n",
       "</table>\n",
       "</div>"
      ],
      "text/plain": [
       "                                  index laterality  patient_id  \\\n",
       "0  f55c7e1c-9c91-4509-8724-4309341db0a5          L        2784   \n",
       "1  7ce278f3-df17-4b91-b17a-d038005a044f          R        2784   \n",
       "2  8e462f38-8063-46c0-bdf5-15be8c3bebbb          L        1079   \n",
       "3  3dbd7019-8e7b-4e2d-8343-e976b0f9d581          R        1079   \n",
       "4  71981fe9-8f8e-4ee1-834e-832ae0f9ab39          L         952   \n",
       "\n",
       "   tissue_density_predicted  cancer_probability_predicted  \\\n",
       "0                         1                         0.045   \n",
       "1                         2                         0.350   \n",
       "2                         2                         0.993   \n",
       "3                         2                         0.963   \n",
       "4                         2                         0.974   \n",
       "\n",
       "                                                  CC  \\\n",
       "0  [{'coordinates': [484, 600, 518, 628], 'object...   \n",
       "1  [{'coordinates': [793, 877, 815, 901], 'object...   \n",
       "2  [{'coordinates': [837, 1026, 877, 1077], 'obje...   \n",
       "3  [{'coordinates': [163, 749, 182, 768], 'object...   \n",
       "4  [{'coordinates': [376, 426, 466, 482], 'object...   \n",
       "\n",
       "                                                 MLO  BiRads  \n",
       "0  [{'coordinates': [263, 2130, 285, 2151], 'obje...       1  \n",
       "1  [{'coordinates': [1, 260, 49, 331], 'object_ty...       1  \n",
       "2  [{'coordinates': [318, 1006, 468, 1139], 'obje...       1  \n",
       "3  [{'coordinates': [444, 1397, 521, 1520], 'obje...       1  \n",
       "4  [{'coordinates': [458, 1413, 510, 1472], 'obje...       2  "
      ]
     },
     "execution_count": 16,
     "metadata": {},
     "output_type": "execute_result"
    }
   ],
   "source": [
    "full_train_df.head()"
   ]
  },
  {
   "cell_type": "code",
   "execution_count": 17,
   "metadata": {},
   "outputs": [],
   "source": [
    "X = pd.DataFrame({'tissue_density_predicted': full_train_df['tissue_density_predicted'], 'cancer_probability_predicted' : full_train_df['cancer_probability_predicted']})\n",
    "y = full_train_df['BiRads']\n",
    "\n",
    "DTC = DecisionTreeClassifier(random_state=17)"
   ]
  },
  {
   "cell_type": "code",
   "execution_count": 18,
   "metadata": {},
   "outputs": [
    {
     "data": {
      "text/plain": [
       "array([0.5399754 , 0.52275523, 0.5301353 , 0.56280788, 0.52832512])"
      ]
     },
     "execution_count": 18,
     "metadata": {},
     "output_type": "execute_result"
    }
   ],
   "source": [
    "cross_val_score(DTC, X, y, cv=5)"
   ]
  },
  {
   "cell_type": "code",
   "execution_count": 23,
   "metadata": {},
   "outputs": [
    {
     "data": {
      "text/plain": [
       "(-0.16418386226729673, {'n_neighbors': 57})"
      ]
     },
     "execution_count": 23,
     "metadata": {},
     "output_type": "execute_result"
    }
   ],
   "source": [
    "# KNN - лучше\n",
    "\n",
    "knn = KNeighborsClassifier()\n",
    "x_train, x_test, y_train, y_test = train_test_split(X,y, test_size=0.2,stratify=y)\n",
    "\n",
    "params = {'n_neighbors' :  [57]}\n",
    "KNN_search_grid = GridSearchCV(knn, params, n_jobs=-1,scoring=make_scorer(calculate_metrics),cv=5)\n",
    "\n",
    "KNN_search_grid.fit(x_train, np.array(y_train))\n",
    "\n",
    "KNN_search_grid.best_score_, KNN_search_grid.best_params_\n",
    "\n"
   ]
  },
  {
   "cell_type": "code",
   "execution_count": null,
   "metadata": {},
   "outputs": [],
   "source": []
  },
  {
   "cell_type": "code",
   "execution_count": 24,
   "metadata": {},
   "outputs": [
    {
     "data": {
      "text/plain": [
       "-0.1665211644162224"
      ]
     },
     "execution_count": 24,
     "metadata": {},
     "output_type": "execute_result"
    }
   ],
   "source": [
    "prediction = KNN_search_grid.best_estimator_.predict(x_test)\n",
    "calculate_metrics(y_test.values,prediction )"
   ]
  },
  {
   "cell_type": "code",
   "execution_count": 24,
   "metadata": {},
   "outputs": [
    {
     "data": {
      "text/plain": [
       "array([1, 2, 2, ..., 2, 1, 1])"
      ]
     },
     "execution_count": 24,
     "metadata": {},
     "output_type": "execute_result"
    }
   ],
   "source": [
    "prediction\n"
   ]
  },
  {
   "cell_type": "code",
   "execution_count": null,
   "metadata": {},
   "outputs": [],
   "source": [
    "prediction = KNN_search_grid.best_estimator_.predict(X)\n",
    "prediction"
   ]
  },
  {
   "cell_type": "code",
   "execution_count": null,
   "metadata": {},
   "outputs": [],
   "source": [
    "X.head()"
   ]
  },
  {
   "cell_type": "code",
   "execution_count": null,
   "metadata": {},
   "outputs": [],
   "source": [
    "# худшее потому что нет ?округления?\n",
    "\n",
    "lr = LinearRegression()\n",
    "\n",
    "cross_val_score(lr, X, y, cv=5)"
   ]
  },
  {
   "cell_type": "code",
   "execution_count": null,
   "metadata": {},
   "outputs": [],
   "source": [
    "full_train_df[full_train_df['BiRads'] == 1].shape,full_train_df[full_train_df['BiRads'] == 2].shape"
   ]
  },
  {
   "cell_type": "code",
   "execution_count": null,
   "metadata": {},
   "outputs": [],
   "source": [
    "vse_norm = [2] * y.shape[0]"
   ]
  },
  {
   "cell_type": "code",
   "execution_count": null,
   "metadata": {},
   "outputs": [],
   "source": [
    "# vse 2 - 0.4489293625399951\n",
    "mean_squared_error(vse_norm,y) "
   ]
  },
  {
   "cell_type": "code",
   "execution_count": null,
   "metadata": {},
   "outputs": [],
   "source": [
    "# Submit KNN\n",
    "prediction_df = test_df.drop(['laterality','patient_id','CC','MLO'],axis=1)"
   ]
  },
  {
   "cell_type": "code",
   "execution_count": 1,
   "metadata": {},
   "outputs": [
    {
     "ename": "NameError",
     "evalue": "name 'prediction_df' is not defined",
     "output_type": "error",
     "traceback": [
      "\u001b[0;31m---------------------------------------------------------------------------\u001b[0m",
      "\u001b[0;31mNameError\u001b[0m                                 Traceback (most recent call last)",
      "\u001b[0;32m<ipython-input-1-13ae1076f06d>\u001b[0m in \u001b[0;36m<module>\u001b[0;34m\u001b[0m\n\u001b[0;32m----> 1\u001b[0;31m \u001b[0mprediction_df\u001b[0m\u001b[0;34m.\u001b[0m\u001b[0mhead\u001b[0m\u001b[0;34m(\u001b[0m\u001b[0;34m)\u001b[0m\u001b[0;34m\u001b[0m\u001b[0;34m\u001b[0m\u001b[0m\n\u001b[0m",
      "\u001b[0;31mNameError\u001b[0m: name 'prediction_df' is not defined"
     ]
    }
   ],
   "source": [
    "prediction_df.head()"
   ]
  },
  {
   "cell_type": "code",
   "execution_count": 163,
   "metadata": {},
   "outputs": [],
   "source": [
    "# Нет ни одного экземпляра класса 3 4 5\n",
    "prediction = KNN_search_grid.best_estimator_.predict(prediction_df)"
   ]
  },
  {
   "cell_type": "code",
   "execution_count": 164,
   "metadata": {},
   "outputs": [],
   "source": [
    "prediction_df['BiRads'] = prediction"
   ]
  },
  {
   "cell_type": "code",
   "execution_count": 174,
   "metadata": {},
   "outputs": [
    {
     "data": {
      "text/plain": [
       "(0, 3)"
      ]
     },
     "execution_count": 174,
     "metadata": {},
     "output_type": "execute_result"
    }
   ],
   "source": [
    "prediction_df[prediction_df['BiRads'] == 3].shape"
   ]
  },
  {
   "cell_type": "code",
   "execution_count": 186,
   "metadata": {},
   "outputs": [],
   "source": [
    "prediction_df.head()\n",
    "\n",
    "submission = prediction_df.drop(['tissue_density_predicted','cancer_probability_predicted'], axis=1)"
   ]
  },
  {
   "cell_type": "code",
   "execution_count": 180,
   "metadata": {},
   "outputs": [],
   "source": [
    "submission.to_csv('../submissions/KNN_57_neighbors.csv')"
   ]
  },
  {
   "cell_type": "code",
   "execution_count": 176,
   "metadata": {},
   "outputs": [],
   "source": [
    "# обьединить 3 4 5 классы "
   ]
  },
  {
   "cell_type": "code",
   "execution_count": 181,
   "metadata": {},
   "outputs": [
    {
     "data": {
      "text/html": [
       "<div>\n",
       "<style scoped>\n",
       "    .dataframe tbody tr th:only-of-type {\n",
       "        vertical-align: middle;\n",
       "    }\n",
       "\n",
       "    .dataframe tbody tr th {\n",
       "        vertical-align: top;\n",
       "    }\n",
       "\n",
       "    .dataframe thead th {\n",
       "        text-align: right;\n",
       "    }\n",
       "</style>\n",
       "<table border=\"1\" class=\"dataframe\">\n",
       "  <thead>\n",
       "    <tr style=\"text-align: right;\">\n",
       "      <th></th>\n",
       "      <th>id</th>\n",
       "      <th>BiRads</th>\n",
       "    </tr>\n",
       "  </thead>\n",
       "  <tbody>\n",
       "    <tr>\n",
       "      <th>0</th>\n",
       "      <td>8097d218-2c51-4ec8-9ee8-ea6b7701ef3c</td>\n",
       "      <td>2</td>\n",
       "    </tr>\n",
       "    <tr>\n",
       "      <th>1</th>\n",
       "      <td>4c9a6bed-a454-467c-b51e-451f5ee2db35</td>\n",
       "      <td>2</td>\n",
       "    </tr>\n",
       "    <tr>\n",
       "      <th>2</th>\n",
       "      <td>2737373f-e0ce-4d58-8d0a-0b85925d1783</td>\n",
       "      <td>2</td>\n",
       "    </tr>\n",
       "    <tr>\n",
       "      <th>3</th>\n",
       "      <td>a1298d90-1d62-4a07-a6b4-84999ba8b2c8</td>\n",
       "      <td>2</td>\n",
       "    </tr>\n",
       "    <tr>\n",
       "      <th>4</th>\n",
       "      <td>fdcbc6af-8d74-4537-b965-57e91ed77955</td>\n",
       "      <td>2</td>\n",
       "    </tr>\n",
       "  </tbody>\n",
       "</table>\n",
       "</div>"
      ],
      "text/plain": [
       "                                     id  BiRads\n",
       "0  8097d218-2c51-4ec8-9ee8-ea6b7701ef3c       2\n",
       "1  4c9a6bed-a454-467c-b51e-451f5ee2db35       2\n",
       "2  2737373f-e0ce-4d58-8d0a-0b85925d1783       2\n",
       "3  a1298d90-1d62-4a07-a6b4-84999ba8b2c8       2\n",
       "4  fdcbc6af-8d74-4537-b965-57e91ed77955       2"
      ]
     },
     "execution_count": 181,
     "metadata": {},
     "output_type": "execute_result"
    }
   ],
   "source": [
    "\n",
    "\n",
    "test_sub = pd.read_csv('../sample_submit.csv')\n",
    "test_sub.head()"
   ]
  },
  {
   "cell_type": "code",
   "execution_count": 191,
   "metadata": {},
   "outputs": [],
   "source": [
    "submission.reset_index().rename(columns={'index': 'id'}).to_csv('../submissions/KNN_57_neighbors.csv')"
   ]
  },
  {
   "cell_type": "code",
   "execution_count": 206,
   "metadata": {},
   "outputs": [],
   "source": [
    "qwerty = pd.read_csv('../submissions/KNN_57_neighbors.csv')"
   ]
  },
  {
   "cell_type": "code",
   "execution_count": 207,
   "metadata": {},
   "outputs": [],
   "source": [
    "qwerty = qwerty.drop('Unnamed: 0',axis=1)"
   ]
  },
  {
   "cell_type": "code",
   "execution_count": 208,
   "metadata": {},
   "outputs": [],
   "source": [
    "qwerty.to_csv('../submissions/KNN_57_neighbors.csv', index=False)"
   ]
  },
  {
   "cell_type": "code",
   "execution_count": 209,
   "metadata": {},
   "outputs": [
    {
     "data": {
      "text/html": [
       "<div>\n",
       "<style scoped>\n",
       "    .dataframe tbody tr th:only-of-type {\n",
       "        vertical-align: middle;\n",
       "    }\n",
       "\n",
       "    .dataframe tbody tr th {\n",
       "        vertical-align: top;\n",
       "    }\n",
       "\n",
       "    .dataframe thead th {\n",
       "        text-align: right;\n",
       "    }\n",
       "</style>\n",
       "<table border=\"1\" class=\"dataframe\">\n",
       "  <thead>\n",
       "    <tr style=\"text-align: right;\">\n",
       "      <th></th>\n",
       "      <th>id</th>\n",
       "      <th>BiRads</th>\n",
       "    </tr>\n",
       "  </thead>\n",
       "  <tbody>\n",
       "    <tr>\n",
       "      <th>0</th>\n",
       "      <td>8097d218-2c51-4ec8-9ee8-ea6b7701ef3c</td>\n",
       "      <td>2</td>\n",
       "    </tr>\n",
       "    <tr>\n",
       "      <th>1</th>\n",
       "      <td>4c9a6bed-a454-467c-b51e-451f5ee2db35</td>\n",
       "      <td>2</td>\n",
       "    </tr>\n",
       "    <tr>\n",
       "      <th>2</th>\n",
       "      <td>2737373f-e0ce-4d58-8d0a-0b85925d1783</td>\n",
       "      <td>2</td>\n",
       "    </tr>\n",
       "    <tr>\n",
       "      <th>3</th>\n",
       "      <td>a1298d90-1d62-4a07-a6b4-84999ba8b2c8</td>\n",
       "      <td>2</td>\n",
       "    </tr>\n",
       "    <tr>\n",
       "      <th>4</th>\n",
       "      <td>fdcbc6af-8d74-4537-b965-57e91ed77955</td>\n",
       "      <td>2</td>\n",
       "    </tr>\n",
       "  </tbody>\n",
       "</table>\n",
       "</div>"
      ],
      "text/plain": [
       "                                     id  BiRads\n",
       "0  8097d218-2c51-4ec8-9ee8-ea6b7701ef3c       2\n",
       "1  4c9a6bed-a454-467c-b51e-451f5ee2db35       2\n",
       "2  2737373f-e0ce-4d58-8d0a-0b85925d1783       2\n",
       "3  a1298d90-1d62-4a07-a6b4-84999ba8b2c8       2\n",
       "4  fdcbc6af-8d74-4537-b965-57e91ed77955       2"
      ]
     },
     "execution_count": 209,
     "metadata": {},
     "output_type": "execute_result"
    }
   ],
   "source": [
    "qwerty.head()"
   ]
  },
  {
   "cell_type": "code",
   "execution_count": 26,
   "metadata": {},
   "outputs": [],
   "source": [
    "\n",
    "\n",
    "# KNN - imblearn с 1 вершиной"
   ]
  },
  {
   "cell_type": "code",
   "execution_count": null,
   "metadata": {},
   "outputs": [],
   "source": []
  }
 ],
 "metadata": {
  "kernelspec": {
   "display_name": "Python 3",
   "language": "python",
   "name": "python3"
  },
  "language_info": {
   "codemirror_mode": {
    "name": "ipython",
    "version": 3
   },
   "file_extension": ".py",
   "mimetype": "text/x-python",
   "name": "python",
   "nbconvert_exporter": "python",
   "pygments_lexer": "ipython3",
   "version": "3.8.5"
  }
 },
 "nbformat": 4,
 "nbformat_minor": 4
}
